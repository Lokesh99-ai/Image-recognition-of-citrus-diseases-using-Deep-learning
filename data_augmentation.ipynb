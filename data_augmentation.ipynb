{
  "nbformat": 4,
  "nbformat_minor": 0,
  "metadata": {
    "colab": {
      "name": "data augmentation.ipynb",
      "provenance": [],
      "collapsed_sections": []
    },
    "kernelspec": {
      "name": "python3",
      "display_name": "Python 3"
    },
    "language_info": {
      "name": "python"
    }
  },
  "cells": [
    {
      "cell_type": "markdown",
      "metadata": {
        "id": "iCwqFNHzD5FL"
      },
      "source": [
        "### **Loading all the citrus diseases datasets**\n"
      ]
    },
    {
      "cell_type": "code",
      "metadata": {
        "id": "o6xGJ0dgCGlW"
      },
      "source": [
        "from os import listdir\n",
        "from os.path import isfile, join\n",
        "\n",
        "mypath = \"./datasets/Citrus/fruits/canker/\"\n",
        "\n",
        "file_names = [f for f in listdir(mypath) if isfile(join(mypath, f))]\n",
        "\n",
        "print(str(len(file_names)) + ' images loaded')"
      ],
      "execution_count": null,
      "outputs": []
    },
    {
      "cell_type": "markdown",
      "metadata": {
        "id": "Rtenc4v0EQw0"
      },
      "source": [
        "### **Performing Data augmentation like rotation,horizontal flip,vertical flip and zoom range**"
      ]
    },
    {
      "cell_type": "code",
      "metadata": {
        "id": "ubTRHuK2Cguf"
      },
      "source": [
        "import cv2\n",
        "import numpy as np\n",
        "import sys\n",
        "import os\n",
        "from keras.preprocessing.image import ImageDataGenerator, img_to_array, load_img\n",
        "import shutil\n",
        "\n",
        "\n",
        "Fruit_count = 0\n",
        "\n",
        "#datagen = ImageDataGenerator(horizontal_flip=True )\n",
        "datagen = ImageDataGenerator(vertical_flip=True)\n",
        "\n",
        "\n",
        "for i, file in enumerate(file_names):\n",
        "        Fruit_count += 1\n",
        "        image = cv2.imread(mypath+file)\n",
        "        img = load_img(mypath+file)\n",
        "        x = img_to_array(img)  # creating a Numpy array with shape (3, 150, 150)\n",
        "        x = x.reshape((1,) + x.shape)  # converting to a Numpy array with shape (1, 3, 150, 150)\n",
        "        i=0\n",
        "        for batch in datagen.flow(x,batch_size=1 ,save_to_dir='output', save_prefix='canker', save_format='jpg'):\n",
        "            i += 1\n",
        "            if i >= 1:\n",
        "                break \n",
        "    \n",
        "print(\"Complete\")"
      ],
      "execution_count": null,
      "outputs": []
    },
    {
      "cell_type": "markdown",
      "metadata": {
        "id": "B1zfHjkMDxIw"
      },
      "source": [
        "## **importing data augmented files**"
      ]
    },
    {
      "cell_type": "code",
      "metadata": {
        "id": "lzoKAxLUCxfw"
      },
      "source": [
        "from os import listdir\n",
        "from os.path import isfile, join\n",
        "\n",
        "mypath = \"./datasets/Citrus/fruits/canker/\"\n",
        "\n",
        "file_names = [f for f in listdir(mypath) if isfile(join(mypath, f))]\n",
        "\n",
        "print(str(len(file_names)) + ' images loaded')"
      ],
      "execution_count": null,
      "outputs": []
    },
    {
      "cell_type": "markdown",
      "metadata": {
        "id": "UOykd_VIFcpz"
      },
      "source": [
        "# **splitting the augmented dataset into training set and validation set**"
      ]
    },
    {
      "cell_type": "code",
      "metadata": {
        "id": "5JncegfxCyhK"
      },
      "source": [
        "import cv2\n",
        "import numpy as np\n",
        "import sys\n",
        "import os\n",
        "import shutil\n",
        "\n",
        "fruit_count = 0\n",
        "training_size = 48\n",
        "test_size = 12\n",
        "training_images = []\n",
        "training_labels = []\n",
        "test_images = []\n",
        "test_labels = []\n",
        "size =  224\n",
        "Fruit_dir_train = \"./datasets/fruits/train/canker/\"\n",
        "Fruit_dir_val = \"./datasets/fruits/validation/canker/\"\n",
        "\n",
        "\n",
        "def make_dir(directory):\n",
        "        if os.path.exists(directory):\n",
        "            shutil.rmtree(directory)\n",
        "        os.makedirs(directory)\n",
        "\n",
        "make_dir(Fruit_dir_train)\n",
        "make_dir(Fruit_dir_val)\n",
        "\n",
        "def getZeros(number):\n",
        "    if(number >= 10 and number < 100):\n",
        "        return \"0\"\n",
        "    if(number < 10):\n",
        "        return \"00\"\n",
        "    else:\n",
        "        return \"\"\n",
        "\n",
        "for i, file in enumerate(file_names):\n",
        "        fruit_count += 1\n",
        "        image = cv2.imread(mypath+file)\n",
        "        image = cv2.resize(image, (size, size), interpolation = cv2.INTER_AREA)\n",
        "        if fruit_count <= training_size:\n",
        "            training_images.append(image)\n",
        "            training_labels.append(1)\n",
        "            zeros = getZeros(fruit_count)\n",
        "            cv2.imwrite(Fruit_dir_train + \"canker\" + str(zeros) + str(fruit_count) + \".jpg\", image)\n",
        "        if fruit_count > training_size and fruit_count <= training_size+test_size:\n",
        "            test_images.append(image)\n",
        "            test_labels.append(1)\n",
        "            zeros = getZeros(fruit_count-48)\n",
        "            cv2.imwrite(Fruit_dir_val + \"canker\" + str(zeros) + str(fruit_count-48) + \".jpg\", image)\n",
        "            \n",
        "\n",
        "        if fruit_count == training_size+test_size:\n",
        "            break\n",
        "\n",
        "print(\"Training and Test Data Extraction Complete\")"
      ],
      "execution_count": null,
      "outputs": []
    }
  ]
}